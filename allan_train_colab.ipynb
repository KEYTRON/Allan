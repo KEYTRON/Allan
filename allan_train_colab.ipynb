{
 "cells": [
  {
   "cell_type": "code",
   "execution_count": null,
   "id": "29f064f9",
   "metadata": {
    "vscode": {
     "languageId": "ini"
    }
   },
   "outputs": [],
   "source": [
    "# 🤖 AllanGPTv1 — Обучение GPT-2 на русском в Google Colab\n",
    "\n",
    "# 📦 Установка библиотек\n",
    "!pip install -q transformers datasets accelerate\n",
    "\n",
    "# 🔗 Подключение Google Drive\n",
    "from google.colab import drive\n",
    "drive.mount('/content/drive')\n",
    "\n",
    "# 📚 Импорт\n",
    "from transformers import TFGPT2LMHeadModel, GPT2TokenizerFast, DataCollatorForLanguageModeling\n",
    "from datasets import load_dataset\n",
    "import tensorflow as tf\n",
    "import os\n",
    "\n",
    "# 📥 Загрузка токенизатора и модели от Сбера\n",
    "model_name = 'sberbank-ai/rugpt3small_based_on_gpt2'\n",
    "tokenizer = GPT2TokenizerFast.from_pretrained(model_name)\n",
    "model = TFGPT2LMHeadModel.from_pretrained(model_name)\n",
    "\n",
    "# 📂 Загрузка датасета opus100\n",
    "dataset = load_dataset(\"opus100\", lang1=\"ru\", lang2=\"en\", split=\"train\")\n",
    "\n",
    "# 🔧 Препроцессинг\n",
    "def preprocess(example):\n",
    "    return tokenizer(example['translation']['ru'], truncation=True, padding='max_length', max_length=128)\n",
    "\n",
    "tokenized = dataset.map(preprocess, batched=True, remove_columns=dataset.column_names)\n",
    "\n",
    "# 📊 Настройка данных\n",
    "data_collator = DataCollatorForLanguageModeling(tokenizer=tokenizer, mlm=False)\n",
    "\n",
    "train_dataset = tokenized.to_tf_dataset(\n",
    "    columns=[\"input_ids\", \"attention_mask\"],\n",
    "    shuffle=True,\n",
    "    batch_size=4,\n",
    "    collate_fn=data_collator\n",
    ")\n",
    "\n",
    "# 🧠 Обучение модели\n",
    "optimizer = tf.keras.optimizers.Adam(learning_rate=5e-5)\n",
    "model.compile(optimizer=optimizer)\n",
    "model.fit(train_dataset, epochs=1)\n",
    "\n",
    "# 💾 Сохранение модели в Google Drive\n",
    "save_path = \"/content/drive/MyDrive/AllanGPTv1\"\n",
    "model.save_pretrained(save_path)\n",
    "tokenizer.save_pretrained(save_path)"
   ]
  }
 ],
 "metadata": {
  "language_info": {
   "name": "python"
  }
 },
 "nbformat": 4,
 "nbformat_minor": 5
}